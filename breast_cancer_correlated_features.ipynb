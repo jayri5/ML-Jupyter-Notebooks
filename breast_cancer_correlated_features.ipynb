{
 "cells": [
  {
   "cell_type": "code",
   "execution_count": 1,
   "metadata": {},
   "outputs": [],
   "source": [
    "from sklearn.datasets import load_breast_cancer\n",
    "dataset = load_breast_cancer()\n",
    "import pandas as pd\n",
    "import numpy as np\n",
    "cancer_df = pd.DataFrame(np.c_[dataset['data'],dataset['target']], \n",
    "                         columns = np.append(dataset['feature_names'],['target_names']))"
   ]
  },
  {
   "cell_type": "code",
   "execution_count": 29,
   "metadata": {},
   "outputs": [],
   "source": [
    "X=cancer_df #.drop(['target_names'], axis=1)"
   ]
  },
  {
   "cell_type": "code",
   "execution_count": 30,
   "metadata": {},
   "outputs": [
    {
     "name": "stdout",
     "output_type": "stream",
     "text": [
      "                    feature           VIF\n",
      "0               mean radius  63955.019898\n",
      "1              mean texture    251.093672\n",
      "2            mean perimeter  58213.349861\n",
      "3                 mean area   1320.282793\n",
      "4           mean smoothness    393.418392\n",
      "5          mean compactness    200.983909\n",
      "6            mean concavity    158.033586\n",
      "7       mean concave points    155.053368\n",
      "8             mean symmetry    184.712502\n",
      "9    mean fractal dimension    683.379907\n",
      "10             radius error    237.257583\n",
      "11            texture error     24.675505\n",
      "12          perimeter error    211.407233\n",
      "13               area error     72.759750\n",
      "14         smoothness error     26.365964\n",
      "15        compactness error     45.049562\n",
      "16          concavity error     33.650689\n",
      "17     concave points error     54.060876\n",
      "18           symmetry error     37.190834\n",
      "19  fractal dimension error     27.619720\n",
      "20             worst radius   9993.710616\n",
      "21            worst texture    343.419477\n",
      "22          worst perimeter   4498.196282\n",
      "23               worst area   1165.384639\n",
      "24         worst smoothness    375.640625\n",
      "25        worst compactness    132.918704\n",
      "26          worst concavity     86.754853\n",
      "27     worst concave points    148.773818\n",
      "28           worst symmetry    219.621611\n",
      "29  worst fractal dimension    427.782984\n",
      "30             target_names     10.884558\n"
     ]
    }
   ],
   "source": [
    "from statsmodels.stats.outliers_influence import variance_inflation_factor \n",
    "vif_data = pd.DataFrame() \n",
    "vif_data[\"feature\"] = X.columns \n",
    "  \n",
    "# calculating VIF for each feature \n",
    "vif_data[\"VIF\"] = [variance_inflation_factor(X.values, i) \n",
    "                          for i in range(len(X.columns))] \n",
    "  \n",
    "print(vif_data)"
   ]
  },
  {
   "cell_type": "code",
   "execution_count": 31,
   "metadata": {},
   "outputs": [
    {
     "data": {
      "text/plain": [
       "0      True\n",
       "1     False\n",
       "2      True\n",
       "3      True\n",
       "4     False\n",
       "5     False\n",
       "6     False\n",
       "7     False\n",
       "8     False\n",
       "9      True\n",
       "10    False\n",
       "11    False\n",
       "12    False\n",
       "13    False\n",
       "14    False\n",
       "15    False\n",
       "16    False\n",
       "17    False\n",
       "18    False\n",
       "19    False\n",
       "20     True\n",
       "21    False\n",
       "22     True\n",
       "23     True\n",
       "24    False\n",
       "25    False\n",
       "26    False\n",
       "27    False\n",
       "28    False\n",
       "29    False\n",
       "30    False\n",
       "Name: VIF, dtype: bool"
      ]
     },
     "execution_count": 31,
     "metadata": {},
     "output_type": "execute_result"
    }
   ],
   "source": [
    "vif_data['VIF']>500"
   ]
  },
  {
   "cell_type": "code",
   "execution_count": 32,
   "metadata": {},
   "outputs": [],
   "source": [
    "features=[]\n",
    "for i in range(len(X.columns)):\n",
    "    if vif_data.loc[i,'VIF']>500:\n",
    "        features.append(vif_data.loc[i,'feature'])"
   ]
  },
  {
   "cell_type": "code",
   "execution_count": 33,
   "metadata": {},
   "outputs": [],
   "source": [
    "X=cancer_df[features]\n",
    "y=cancer_df['target_names']"
   ]
  },
  {
   "cell_type": "code",
   "execution_count": 34,
   "metadata": {},
   "outputs": [],
   "source": [
    "from sklearn import model_selection\n",
    "from sklearn.metrics import classification_report, accuracy_score, confusion_matrix\n",
    "from sklearn.linear_model import LogisticRegression\n",
    "from sklearn.tree import DecisionTreeClassifier\n",
    "from sklearn.neighbors import KNeighborsClassifier\n",
    "from sklearn.discriminant_analysis import LinearDiscriminantAnalysis\n",
    "from sklearn.naive_bayes import GaussianNB\n",
    "from sklearn.svm import SVC "
   ]
  },
  {
   "cell_type": "code",
   "execution_count": 35,
   "metadata": {},
   "outputs": [],
   "source": [
    "models=[]\n",
    "models.append(('LDA',LinearDiscriminantAnalysis()))\n",
    "models.append(('KNN',KNeighborsClassifier()))\n",
    "models.append(('CART',DecisionTreeClassifier()))\n",
    "models.append(('NB',GaussianNB()))\n",
    "models.append(('SVM',SVC()))"
   ]
  },
  {
   "cell_type": "code",
   "execution_count": 36,
   "metadata": {},
   "outputs": [],
   "source": [
    "X_train,X_test,y_train,y_test=model_selection.train_test_split(X,y,test_size=0.20,shuffle=True,random_state=6)"
   ]
  },
  {
   "cell_type": "code",
   "execution_count": 37,
   "metadata": {},
   "outputs": [
    {
     "name": "stdout",
     "output_type": "stream",
     "text": [
      "LDA 0.9409178743961352 0.03501669085890359\n",
      "KNN 0.9254589371980677 0.039051659240425717\n",
      "CART 0.9076328502415458 0.04481769336848325\n",
      "NB 0.9077294685990338 0.04439873726164649\n",
      "SVM 0.9145410628019324 0.04684817324173046\n"
     ]
    }
   ],
   "source": [
    "results=[]\n",
    "names=[]\n",
    "for name,model in models:\n",
    "    kfold=model_selection.KFold(n_splits=10,random_state=6,shuffle=True)\n",
    "    cv_results=model_selection.cross_val_score(model,X_train,y_train,cv=kfold,scoring='accuracy')\n",
    "    results.append(cv_results)\n",
    "    names.append(name)\n",
    "    print(name, cv_results.mean(),cv_results.std())"
   ]
  },
  {
   "cell_type": "code",
   "execution_count": null,
   "metadata": {},
   "outputs": [],
   "source": []
  }
 ],
 "metadata": {
  "kernelspec": {
   "display_name": "Python 3",
   "language": "python",
   "name": "python3"
  },
  "language_info": {
   "codemirror_mode": {
    "name": "ipython",
    "version": 3
   },
   "file_extension": ".py",
   "mimetype": "text/x-python",
   "name": "python",
   "nbconvert_exporter": "python",
   "pygments_lexer": "ipython3",
   "version": "3.7.6"
  }
 },
 "nbformat": 4,
 "nbformat_minor": 4
}
